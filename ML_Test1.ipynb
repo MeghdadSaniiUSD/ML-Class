{
 "cells": [
  {
   "cell_type": "markdown",
   "id": "217b0bdb-106c-4af1-b848-b4030367eede",
   "metadata": {},
   "source": [
    "## This is my first Jupyter notebook file (pushed for testing only)"
   ]
  },
  {
   "cell_type": "code",
   "execution_count": null,
   "id": "5f5775ec-c241-4b5b-aca4-ed1e45484ce7",
   "metadata": {},
   "outputs": [],
   "source": []
  }
 ],
 "metadata": {
  "kernelspec": {
   "display_name": "Python 3 (ipykernel)",
   "language": "python",
   "name": "python3"
  },
  "language_info": {
   "codemirror_mode": {
    "name": "ipython",
    "version": 3
   },
   "file_extension": ".py",
   "mimetype": "text/x-python",
   "name": "python",
   "nbconvert_exporter": "python",
   "pygments_lexer": "ipython3",
   "version": "3.9.7"
  }
 },
 "nbformat": 4,
 "nbformat_minor": 5
}
